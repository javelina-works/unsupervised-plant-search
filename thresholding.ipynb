{
 "cells": [
  {
   "cell_type": "code",
   "execution_count": 3,
   "metadata": {},
   "outputs": [],
   "source": [
    "# Load required libraries\n",
    "import numpy as np\n",
    "import cv2\n",
    "import matplotlib.pyplot as plt\n",
    "from sklearn.cluster import KMeans\n",
    "from sklearn.decomposition import PCA\n",
    "from skimage.filters import threshold_otsu\n",
    "from skimage.color import rgb2lab\n",
    "from scipy.ndimage import gaussian_filter\n",
    "import rasterio\n",
    "from rasterio.plot import show\n",
    "from PIL import Image\n"
   ]
  },
  {
   "cell_type": "code",
   "execution_count": null,
   "metadata": {},
   "outputs": [],
   "source": [
    "# Load an image (GeoTIFF or standard formats)\n",
    "def load_image(file_path):\n",
    "    try:\n",
    "        if file_path.endswith('.tif'):\n",
    "            # Use rasterio for GeoTIFFs\n",
    "            with rasterio.open(file_path) as src:\n",
    "                image = src.read([1, 2, 3]).transpose(1, 2, 0)  # RGB\n",
    "                return image\n",
    "        else:\n",
    "            # Use OpenCV or PIL for standard formats\n",
    "            return cv2.cvtColor(cv2.imread(file_path), cv2.COLOR_BGR2RGB)\n",
    "    except Exception as e:\n",
    "        print(f\"Error loading image: {e}\")\n",
    "        return None\n",
    "\n",
    "# Visualize the image\n",
    "def plot_image(image, title=\"Image\"):\n",
    "    plt.figure(figsize=(10, 8))\n",
    "    plt.imshow(image)\n",
    "    plt.title(title)\n",
    "    plt.axis('off')\n",
    "    plt.show()\n",
    "\n",
    "# File path\n",
    "file_path = 'input\\ESPG-4326-orthophoto.tif'\n",
    "image = load_image(file_path)\n",
    "if image is not None:\n",
    "    plot_image(image, \"Original Image\")\n"
   ]
  }
 ],
 "metadata": {
  "kernelspec": {
   "display_name": "venv",
   "language": "python",
   "name": "python3"
  },
  "language_info": {
   "codemirror_mode": {
    "name": "ipython",
    "version": 3
   },
   "file_extension": ".py",
   "mimetype": "text/x-python",
   "name": "python",
   "nbconvert_exporter": "python",
   "pygments_lexer": "ipython3",
   "version": "3.11.5"
  }
 },
 "nbformat": 4,
 "nbformat_minor": 2
}
